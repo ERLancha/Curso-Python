{
 "cells": [
  {
   "cell_type": "code",
   "execution_count": null,
   "id": "8be3d9a8",
   "metadata": {},
   "outputs": [],
   "source": [
    "from matplotlib import pyplot as plt\n",
    "import numpy as np\n",
    "\n",
    "plt.style.use('fivethirtyeight')"
   ]
  },
  {
   "cell_type": "code",
   "execution_count": null,
   "id": "80386d75",
   "metadata": {
    "scrolled": true
   },
   "outputs": [],
   "source": [
    "ages_x = [25, 26, 27, 28, 29, 30, 31, 32, 33, 34, 35]\n",
    "\n",
    "#Al utilizar varias columnas en un gráfico tipo bar, debemos procuparnos\n",
    "#por que no se solapen, para eso, primero converimos los valores de x\n",
    "x_index = np.arange(len(ages_x))\n",
    "#np.arange(inicio, fin, salto)->Crea y devuelve una referencia a un array de \n",
    "#una dimensión cuyos elementos \n",
    "#son la secuencia desde inicio hasta fin tomando valores cada salto\n",
    "\n",
    "#Despues definimos el tamaño de la columna\n",
    "width = 0.25\n",
    "\n",
    "#Utilizando la nueva lista de datos de x en todas las columnas,\n",
    "#sumamos, restamos o dejamos igual las columnas que nos interesen, además\n",
    "#tenemos que fijar el tamaño de la columna al valor que hemos definido.\n",
    "\n",
    "dev_y = [38496, 42000, 46752, 49320, 53200,\n",
    "         56000, 62316, 64928, 67317, 68748, 73752]\n",
    "\n",
    "plt.bar(x_index - width, dev_y, width = width ,color=\"#444444\", label=\"All Devs\")\n",
    "\n",
    "py_dev_y = [45372, 48876, 53850, 57287, 63016,\n",
    "             65998, 70003, 70000, 71496, 75370, 83640]\n",
    "#Podemos mezclar los tipos de gráfico\n",
    "#plt.plot(ages_x, py_dev_y, color=\"#008fd5\", label=\"Python\")\n",
    "#Pero vamos a centrarnos en el tipo bar\n",
    "plt.bar(x_index, py_dev_y, width = width ,color=\"#008fd5\", label=\"Python\")\n",
    "\n",
    "\n",
    "js_dev_y = [37810, 43515, 46823, 49293, 53437,\n",
    "             56373, 62375, 66674, 68745, 68746, 74583]\n",
    "#Podemos mezclar los tipos de gráfico\n",
    "#plt.plot(ages_x, js_dev_y, color=\"#e5ae38\", label=\"JavaScript\")\n",
    "#Pero vamos a centrarnos en el tipo bar\n",
    "plt.bar(x_index + width, js_dev_y, width = width ,color=\"#e5ae38\", label=\"JavaScript\")\n",
    "\n",
    "plt.legend()\n",
    "\n",
    "#para mostrar los datos de la serie, y no los indices del array en el eje x\n",
    "plt.xticks(ticks=x_index, labels=ages_x)\n",
    "\n",
    "plt.title(\"Salario Medio (USD) por Edad\")\n",
    "plt.xlabel(\"Edades\")\n"
   ]
  }
 ],
 "metadata": {
  "kernelspec": {
   "display_name": "Python 3 (ipykernel)",
   "language": "python",
   "name": "python3"
  },
  "language_info": {
   "codemirror_mode": {
    "name": "ipython",
    "version": 3
   },
   "file_extension": ".py",
   "mimetype": "text/x-python",
   "name": "python",
   "nbconvert_exporter": "python",
   "pygments_lexer": "ipython3",
   "version": "3.11.1"
  }
 },
 "nbformat": 4,
 "nbformat_minor": 5
}

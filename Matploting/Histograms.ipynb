{
 "cells": [
  {
   "cell_type": "code",
   "execution_count": null,
   "id": "6b46c6b8",
   "metadata": {
    "scrolled": true
   },
   "outputs": [],
   "source": [
    "import pandas as pd\n",
    "from matplotlib import pyplot as plt\n",
    "\n",
    "plt.style.use('fivethirtyeight')\n",
    "\n",
    "#ages = [18, 19, 21, 25, 26, 26, 30, 32, 38, 45, 55]\n",
    "data = pd.read_csv('data3.csv')\n",
    "ids = data['Responder_id']\n",
    "ages = data['Age']\n",
    "\n",
    "bins=[10, 20, 30, 40, 50, 60, 70, 80, 90, 100]\n",
    "\n",
    "#plt.hist(ages,bins=5, edgecolor='black')\n",
    "#plt.hist(ages,bins=bins,edgecolor='black')\n",
    "plt.hist(ages,bins=bins,edgecolor='black', log=True)\n",
    "\n",
    "median_age = 29\n",
    "color = '#fc4f30'\n",
    "\n",
    "plt.axvline(median_age, color=color, label='Age median', linewidth=2)\n",
    "\n",
    "plt.legend()\n",
    "\n",
    "plt.title('Ages of Respondents')\n",
    "plt.xlabel('Ages')\n",
    "plt.ylabel('Total Respondents')\n",
    "\n",
    "plt.tight_layout()\n",
    "\n",
    "plt.show()"
   ]
  }
 ],
 "metadata": {
  "kernelspec": {
   "display_name": "Python 3 (ipykernel)",
   "language": "python",
   "name": "python3"
  },
  "language_info": {
   "codemirror_mode": {
    "name": "ipython",
    "version": 3
   },
   "file_extension": ".py",
   "mimetype": "text/x-python",
   "name": "python",
   "nbconvert_exporter": "python",
   "pygments_lexer": "ipython3",
   "version": "3.11.1"
  }
 },
 "nbformat": 4,
 "nbformat_minor": 5
}

{
 "cells": [
  {
   "cell_type": "code",
   "execution_count": null,
   "id": "51f7ee44",
   "metadata": {},
   "outputs": [],
   "source": [
    "from matplotlib import pyplot as plt"
   ]
  },
  {
   "cell_type": "code",
   "execution_count": null,
   "id": "858c8efc",
   "metadata": {},
   "outputs": [],
   "source": [
    "plt.style.use(\"fivethirtyeight\")"
   ]
  },
  {
   "cell_type": "code",
   "execution_count": null,
   "id": "b4251baf",
   "metadata": {},
   "outputs": [],
   "source": [
    "minutes = [1, 2, 3, 4, 5, 6, 7, 8, 9]\n",
    "\n",
    "#player1 = [1, 2, 3, 3, 4, 4, 4, 4, 5]\n",
    "#player2 = [1, 1, 1, 1, 2, 2, 2, 3, 4]\n",
    "#player3 = [1, 1, 1, 2, 2, 2, 3, 3, 3]\n",
    "\n",
    "player1 = [8, 6, 5, 5, 4, 2, 1, 1, 0]\n",
    "player2 = [0, 1, 2, 2, 2, 4, 4, 4, 4]\n",
    "player3 = [0, 1, 1, 1, 2, 2, 3, 3, 4]\n",
    "\n",
    "labels=['player1', 'player2','player3']\n",
    "\n",
    "colors=['#008fd5','#fc4f30','#6d904f']\n",
    "\n",
    "plt.stackplot(minutes, player1, player2, player3,labels=labels,\n",
    "             colors=colors)\n",
    "\n",
    "#plt.legend(loc='upper left')\n",
    "#plt.legend(loc='lower left')\n",
    "plt.legend(loc=(0.07, 0.05))\n",
    "\n",
    "plt.title(\"My Awesome Stack Plot\")\n",
    "plt.tight_layout()\n",
    "plt.show()\n",
    "\n",
    "# Colors:\n",
    "# Blue = #008fd5\n",
    "# Red = #fc4f30\n",
    "# Yellow = #e5ae37\n",
    "# Green = #6d904f"
   ]
  }
 ],
 "metadata": {
  "kernelspec": {
   "display_name": "Python 3 (ipykernel)",
   "language": "python",
   "name": "python3"
  },
  "language_info": {
   "codemirror_mode": {
    "name": "ipython",
    "version": 3
   },
   "file_extension": ".py",
   "mimetype": "text/x-python",
   "name": "python",
   "nbconvert_exporter": "python",
   "pygments_lexer": "ipython3",
   "version": "3.11.1"
  }
 },
 "nbformat": 4,
 "nbformat_minor": 5
}

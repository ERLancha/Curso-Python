{
 "cells": [
  {
   "cell_type": "code",
   "execution_count": null,
   "id": "f4d5bc90",
   "metadata": {},
   "outputs": [],
   "source": [
    "from matplotlib import pyplot as plt"
   ]
  },
  {
   "cell_type": "code",
   "execution_count": null,
   "id": "b12b4d4c",
   "metadata": {},
   "outputs": [],
   "source": [
    "plt.style.use(\"fivethirtyeight\")"
   ]
  },
  {
   "cell_type": "code",
   "execution_count": 32,
   "id": "657a5fe3",
   "metadata": {},
   "outputs": [],
   "source": [
    "#slices = [60, 40, 30, 10]\n",
    "#labels = ['Sixty','Forty','Extra1', 'Extra2']\n",
    "#colors = ['blue','red','yellow','green']\n",
    "#colors2= ['#008fd5','#fc4f30','#e5ae37','#6d904f']\n",
    "\n",
    "\n",
    "# Language Popularity\n",
    "slices = [59219, 55466, 47544, 36443, 35917]\n",
    "labels = ['JavaScript', 'HTML/CSS', 'SQL', 'Python', 'Java']\n",
    "explode = [0,0,0,0.1,0]\n"
   ]
  },
  {
   "cell_type": "code",
   "execution_count": null,
   "id": "6bc523c3",
   "metadata": {},
   "outputs": [],
   "source": [
    "#plt.pie(slices, labels=labels, wedgeprops={'edgecolor': 'black'}, colors = colors2)\n",
    "plt.pie(slices, labels=labels, wedgeprops={'edgecolor': 'black'}, explode=explode, shadow=True, \n",
    "        startangle=90,autopct='%1.1f%%')\n",
    "plt.title(\"My Awesome Pie Chart\")\n",
    "#plt.tight_layout()\n",
    "plt.show()"
   ]
  }
 ],
 "metadata": {
  "kernelspec": {
   "display_name": "Python 3 (ipykernel)",
   "language": "python",
   "name": "python3"
  },
  "language_info": {
   "codemirror_mode": {
    "name": "ipython",
    "version": 3
   },
   "file_extension": ".py",
   "mimetype": "text/x-python",
   "name": "python",
   "nbconvert_exporter": "python",
   "pygments_lexer": "ipython3",
   "version": "3.11.1"
  }
 },
 "nbformat": 4,
 "nbformat_minor": 5
}

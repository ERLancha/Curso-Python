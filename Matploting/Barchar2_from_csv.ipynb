{
 "cells": [
  {
   "cell_type": "code",
   "execution_count": null,
   "id": "20c6791d",
   "metadata": {},
   "outputs": [],
   "source": [
    "from matplotlib import pyplot as plt\n",
    "from collections import Counter\n",
    "import csv\n",
    "import numpy as np\n",
    "\n",
    "plt.style.use('fivethirtyeight')"
   ]
  },
  {
   "cell_type": "code",
   "execution_count": null,
   "id": "489889d9",
   "metadata": {},
   "outputs": [],
   "source": [
    "with open('data.csv') as csv_file:\n",
    "    csv_reader = csv.DictReader(csv_file)\n",
    "    \n",
    "    language_counter = Counter()\n",
    "    \n",
    "    for row in csv_reader:\n",
    "        language_counter.update(row['LanguagesWorkedWith'].split(';'))\n",
    "    "
   ]
  },
  {
   "cell_type": "code",
   "execution_count": null,
   "id": "202b50f8",
   "metadata": {},
   "outputs": [],
   "source": [
    "languages = []\n",
    "popularity = []\n",
    "for item  in language_counter.most_common(15):\n",
    "    languages.append(item[0])\n",
    "    popularity.append(item[1])"
   ]
  },
  {
   "cell_type": "code",
   "execution_count": null,
   "id": "f2c56190",
   "metadata": {},
   "outputs": [],
   "source": [
    "languages.reverse()\n",
    "popularity.reverse()\n",
    "\n",
    "plt.barh(languages, popularity)\n",
    "\n",
    "plt.title('Most Popular Languages')\n",
    "plt.xlabel('# of People Who Knows')\n",
    "#plt.ylabel('Programming Languages')\n",
    "\n"
   ]
  },
  {
   "cell_type": "code",
   "execution_count": null,
   "id": "813b6006",
   "metadata": {},
   "outputs": [],
   "source": []
  }
 ],
 "metadata": {
  "kernelspec": {
   "display_name": "Python 3 (ipykernel)",
   "language": "python",
   "name": "python3"
  },
  "language_info": {
   "codemirror_mode": {
    "name": "ipython",
    "version": 3
   },
   "file_extension": ".py",
   "mimetype": "text/x-python",
   "name": "python",
   "nbconvert_exporter": "python",
   "pygments_lexer": "ipython3",
   "version": "3.11.1"
  }
 },
 "nbformat": 4,
 "nbformat_minor": 5
}

{
 "cells": [
  {
   "cell_type": "code",
   "execution_count": null,
   "id": "ff38f782",
   "metadata": {},
   "outputs": [],
   "source": [
    "import pandas as pd\n",
    "import numpy as np"
   ]
  },
  {
   "cell_type": "code",
   "execution_count": null,
   "id": "65146db3",
   "metadata": {},
   "outputs": [],
   "source": [
    "people={\n",
    "    \"first\":[\"Corey\", \"Jane\", \"John\",\"Adam\",np.nan, None, 'NA'],\n",
    "    \"last\":[\"Schafer\",\"Doe\", \"Doe\",\"Doe\",np.nan, np.nan, 'Missing'],\n",
    "    \"email\":[\"email@gmail.com\", \"email2@gmail.com\", \"email3@gmai0l.com\",np.nan, None,\"email4@gmail.com\", 'Missing'],\n",
    "    \"age\":['33','55','63','36',None, None, 'Missing']\n",
    "}"
   ]
  },
  {
   "cell_type": "code",
   "execution_count": null,
   "id": "8218d1e6",
   "metadata": {},
   "outputs": [],
   "source": [
    "df = pd.DataFrame(people)"
   ]
  },
  {
   "cell_type": "code",
   "execution_count": null,
   "id": "bdac8626",
   "metadata": {},
   "outputs": [],
   "source": [
    "df"
   ]
  },
  {
   "cell_type": "code",
   "execution_count": null,
   "id": "e80b24bd",
   "metadata": {},
   "outputs": [],
   "source": [
    "df.dropna()"
   ]
  },
  {
   "cell_type": "code",
   "execution_count": null,
   "id": "4b46971c",
   "metadata": {},
   "outputs": [],
   "source": [
    "### parámetros por defecto\n",
    "df.dropna(axis='index',how='any')"
   ]
  },
  {
   "cell_type": "code",
   "execution_count": null,
   "id": "6aa5645e",
   "metadata": {},
   "outputs": [],
   "source": []
  }
 ],
 "metadata": {
  "kernelspec": {
   "display_name": "Python 3",
   "language": "python",
   "name": "python3"
  },
  "language_info": {
   "codemirror_mode": {
    "name": "ipython",
    "version": 3
   },
   "file_extension": ".py",
   "mimetype": "text/x-python",
   "name": "python",
   "nbconvert_exporter": "python",
   "pygments_lexer": "ipython3",
   "version": "3.11.1"
  },
  "vscode": {
   "interpreter": {
    "hash": "f778747a31e032e1b6f15c82b1b0cc5b3d74c4073d96006016be9bc0cb3b3b43"
   }
  }
 },
 "nbformat": 4,
 "nbformat_minor": 5
}

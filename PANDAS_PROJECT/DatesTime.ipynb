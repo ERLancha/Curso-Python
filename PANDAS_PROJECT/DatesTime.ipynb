import pandas as pd

df = pd.read_csv('../Datos/survey-2022/ETH_1h.csv')

df.head()